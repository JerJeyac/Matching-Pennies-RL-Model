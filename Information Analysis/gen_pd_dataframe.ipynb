{
 "cells": [
  {
   "cell_type": "code",
   "execution_count": 87,
   "metadata": {},
   "outputs": [],
   "source": [
    "import scipy.io\n",
    "import pandas as pd\n",
    "import numpy as np"
   ]
  },
  {
   "cell_type": "code",
   "execution_count": 88,
   "metadata": {},
   "outputs": [],
   "source": [
    "raw_dat = scipy.io.loadmat('dir.mat')\n",
    "big_data = raw_dat['big_data']"
   ]
  },
  {
   "cell_type": "code",
   "execution_count": 89,
   "metadata": {},
   "outputs": [],
   "source": [
    "#Define Constants\n",
    "SUB = 0\n",
    "GROUP = 1\n",
    "SESS = 5\n",
    "MEDS = 6\n",
    "GAME = 8\n",
    "EOB = 9\n",
    "DIR = 12\n",
    "COL = 13\n",
    "REW = 14\n",
    "RT = 15\n",
    "c_set = [SUB, GROUP, SESS, MEDS, EOB]"
   ]
  },
  {
   "cell_type": "code",
   "execution_count": 90,
   "metadata": {},
   "outputs": [],
   "source": [
    "#Filter for strategic version of task\n",
    "st_data = big_data[big_data[:,GAME] == 2,:]\n",
    "\n",
    "#Get unique conditional sets (subject,group,meds,eob,session)\n",
    "unique_sets = np.unique(st_data[:,c_set],axis=0).astype(int)\n",
    "valid_ind= (st_data[:,DIR] == 0) | (st_data[:,DIR] == 1)"
   ]
  },
  {
   "cell_type": "code",
   "execution_count": 91,
   "metadata": {},
   "outputs": [],
   "source": [
    "#Set up string identities for groups/EoB\n",
    "str_EOB = ('eye','button') \n",
    "str_groups = ('young','elderly','parkinsons','BPD','adult_male','adult_female')"
   ]
  },
  {
   "cell_type": "code",
   "execution_count": 92,
   "metadata": {},
   "outputs": [],
   "source": [
    "patient_df = pd.DataFrame(columns=['subject_ID','group','session','meds','EoB',\n",
    "                                   'dir_choice','col_choice','outcomes','RT'])"
   ]
  },
  {
   "cell_type": "code",
   "execution_count": 93,
   "metadata": {},
   "outputs": [],
   "source": [
    "def get_opponent_choice(c,o):\n",
    "   \n",
    "    opp_choice = np.zeros_like(c)\n",
    "    opp_choice[o > 0] = c[o > 0]\n",
    "    opp_choice[o < 0] = 1 - c[o < 0]\n",
    "    \n",
    "    return opp_choice"
   ]
  },
  {
   "cell_type": "code",
   "execution_count": 94,
   "metadata": {
    "scrolled": false
   },
   "outputs": [],
   "source": [
    "\n",
    "dict_data = []\n",
    "\n",
    "for line in unique_sets:    \n",
    "    #Select of data matching conditions \n",
    "    set_ind = np.all(st_data[:,c_set].astype(int) == line,axis=1)\n",
    "    select_data = st_data[np.logical_and(set_ind,valid_ind),:]\n",
    "\n",
    "    #From this, create a dictionary of values to append into dataframe \n",
    "    dict_data.append(\n",
    "        {'subject_id' : line[0],'group' : str_groups[line[1]-1],'session' : line[2],'meds' : line[3],\n",
    "         'eob' : str_EOB[line[4]],'dir_choice' : select_data[:,DIR].astype(int),'col_choice' : select_data[:,COL].astype(int),\n",
    "         'outcomes' : select_data[:,REW].astype(int),'RT' : select_data[:,RT],\n",
    "         'dir_opp' : get_opponent_choice(select_data[:,DIR].astype(int),select_data[:,REW].astype(int)),\n",
    "         'col_opp' : get_opponent_choice(select_data[:,COL].astype(int),select_data[:,REW].astype(int))}\n",
    "    )\n",
    "    assert select_data[:,DIR].shape == select_data[:,REW].shape\n",
    "    assert select_data[:,COL].shape == select_data[:,REW].shape\n",
    "    \n",
    "    \n",
    "    "
   ]
  },
  {
   "cell_type": "code",
   "execution_count": null,
   "metadata": {
    "scrolled": true
   },
   "outputs": [],
   "source": [
    "df = pd.DataFrame.from_dict(dict_data)\n",
    "df = df[['subject_id','group','meds','session','eob','dir_choice','col_choice','outcomes','RT','dir_opp','col_opp']]\n",
    "df.head()"
   ]
  },
  {
   "cell_type": "code",
   "execution_count": 96,
   "metadata": {},
   "outputs": [],
   "source": [
    "## Preprocess before saving data\n",
    "#Remove young controls \n",
    "df = df[df['group'] != 'young']\n",
    "\n",
    "#Set meds -1 to 1 \n",
    "df['meds'][df['meds'] == -1] = 0"
   ]
  },
  {
   "cell_type": "code",
   "execution_count": 97,
   "metadata": {
    "scrolled": true
   },
   "outputs": [],
   "source": [
    "df = df.reset_index()"
   ]
  },
  {
   "cell_type": "code",
   "execution_count": 101,
   "metadata": {},
   "outputs": [],
   "source": [
    "df.drop('index',inplace=True,axis=1)"
   ]
  },
  {
   "cell_type": "code",
   "execution_count": null,
   "metadata": {
    "scrolled": true
   },
   "outputs": [],
   "source": [
    "df.head()"
   ]
  },
  {
   "cell_type": "code",
   "execution_count": 104,
   "metadata": {},
   "outputs": [],
   "source": [
    "#Save dataframe as JSON\n",
    "df.to_pickle('save_dir')"
   ]
  }
 ],
 "metadata": {
  "kernelspec": {
   "display_name": "Python 3",
   "language": "python",
   "name": "python3"
  },
  "language_info": {
   "codemirror_mode": {
    "name": "ipython",
    "version": 3
   },
   "file_extension": ".py",
   "mimetype": "text/x-python",
   "name": "python",
   "nbconvert_exporter": "python",
   "pygments_lexer": "ipython3",
   "version": "3.5.2"
  }
 },
 "nbformat": 4,
 "nbformat_minor": 2
}
