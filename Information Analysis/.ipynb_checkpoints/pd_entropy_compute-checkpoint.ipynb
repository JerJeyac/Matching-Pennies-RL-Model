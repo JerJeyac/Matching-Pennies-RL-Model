{
 "cells": [
  {
   "cell_type": "code",
   "execution_count": 2,
   "metadata": {},
   "outputs": [],
   "source": [
    "#Import libraries for data handling and matrix algebra\n",
    "import pandas as pd\n",
    "import numpy as np "
   ]
  },
  {
   "cell_type": "code",
   "execution_count": 3,
   "metadata": {},
   "outputs": [],
   "source": [
    "#Load in datafile -- this is already pre-processed the same way we did in MATLAB\n",
    "df = pd.read_pickle('dir_here')"
   ]
  },
  {
   "cell_type": "code",
   "execution_count": null,
   "metadata": {
    "scrolled": true
   },
   "outputs": [],
   "source": []
  },
  {
   "cell_type": "code",
   "execution_count": 5,
   "metadata": {},
   "outputs": [],
   "source": [
    "'''Entropy is computed from Daeyoels paper using 3 choice sequences as a sample. \n",
    "This slide_window function basically grabs the triplet groups from the choice vector array'''\n",
    "def slide_window(sequence,win_size,step=1):\n",
    "    \n",
    "    #Define # of triplets to grab using the window size and step (1 since we don't want to skip values)\n",
    "    num_chunks = int((len(sequence) - win_size/step) + 1)\n",
    "    \n",
    "    #A for loop which returns the next triplet everytime the function is called\n",
    "    for i in range(0,num_chunks*step,step):\n",
    "        yield sequence[i:i+win_size] "
   ]
  },
  {
   "cell_type": "code",
   "execution_count": 6,
   "metadata": {},
   "outputs": [],
   "source": [
    "#Compute entropy function\n",
    "def entropy_choice(choice,win_size=3):\n",
    "    \n",
    "    \n",
    "    #This is an iterator which stores the slide_window function\n",
    "    win_iterate = slide_window(choice,win_size) \n",
    "\n",
    "    #Set up a dictionary to store all unique triplets \n",
    "    entropy_dict = dict() \n",
    "    \n",
    "    #Iterate or loop through the windows provided by slide_window function\n",
    "    for chunk in win_iterate:\n",
    "        '''Chunk is a triplet returned from the slide_window function, we want the total count\n",
    "        of all unique triplets 2^3 possible combinations'''\n",
    "        \n",
    "        #Method of counting unique values\n",
    "        \n",
    "        #If we've see the triplet before, add +1 to it's total\n",
    "        if tuple(chunk) in entropy_dict: \n",
    "            entropy_dict[tuple(chunk)] += 1\n",
    "        else: \n",
    "            #If not, then create a new dictionary entry for the triplet and set it to 1\n",
    "            entropy_dict[tuple(chunk)] = 1\n",
    "    \n",
    "    #Biased entropy is a sum of all entropies of each triplet\n",
    "    #Refer to Daeyoel's paper for formula\n",
    "    biased_entropy = 0\n",
    "    \n",
    "    #For each unique triplet\n",
    "    for key in entropy_dict:\n",
    "                \n",
    "        #Calculate the un-corrected entropy (sum of p * log2p) for each of the unique choice triplets\n",
    "        #Then accumulate the sum\n",
    "        biased_entropy += entropy_dict[key]/sum(entropy_dict.values()) \\\n",
    "        * np.log2(entropy_dict[key]/sum(entropy_dict.values()))\n",
    "    \n",
    "    #Add correction factor proposed by Miller (1955), not sure why 1.3863N is a factor when in Miller 2N is \n",
    "    #the value used... talk to Daeyoel\n",
    "    unbiased_entropy = -biased_entropy + ((2**win_size - 1) / (1.3863 * sum(entropy_dict.values())))\n",
    "    return unbiased_entropy\n",
    "    \n",
    "    \n"
   ]
  },
  {
   "cell_type": "code",
   "execution_count": 7,
   "metadata": {
    "scrolled": true
   },
   "outputs": [],
   "source": [
    "#Here we loop through each of the row entries in the dataframe and compute entropy\n",
    "dict_entropy = [] \n",
    "count = 0\n",
    "#Loop through direction and color choice column rows\n",
    "for row in df[['dir_choice','col_choice']].itertuples(index=False):\n",
    "    #Create a dictionary to create a dataframe\n",
    "    dict_entropy.append({'dir_entropy' : entropy_choice(row[0]), 'col_entropy' : entropy_choice(row[1])})\n",
    "    \n"
   ]
  },
  {
   "cell_type": "code",
   "execution_count": null,
   "metadata": {},
   "outputs": [],
   "source": [
    "#Add the entropy for direction and choice columns to original dataframe and display\n",
    "df_ent = df.join(pd.DataFrame.from_dict(dict_entropy))\n"
   ]
  },
  {
   "cell_type": "code",
   "execution_count": null,
   "metadata": {
    "scrolled": true
   },
   "outputs": [],
   "source": [
    "#Get eye trials\n",
    "df_ent = df_ent[df_ent['eob'] == 'eye']\n",
    "\n",
    "#Just a quick look at statistics of entropy across groups\n",
    "df_grpmeds = df_ent.groupby(by=['group','meds'])\n",
    "df_grpmeds.describe()"
   ]
  },
  {
   "cell_type": "code",
   "execution_count": 10,
   "metadata": {},
   "outputs": [],
   "source": [
    "#Import plotting libraries\n",
    "import matplotlib as mpl\n",
    "import matplotlib.pyplot as plt \n",
    "import seaborn as sn \n",
    "import importlib\n",
    "%matplotlib inline"
   ]
  },
  {
   "cell_type": "code",
   "execution_count": 11,
   "metadata": {},
   "outputs": [],
   "source": [
    "#Set styles used for plotting\n",
    "sn.set_style('ticks')\n",
    "sn.set_context('talk')"
   ]
  },
  {
   "cell_type": "code",
   "execution_count": null,
   "metadata": {
    "scrolled": true
   },
   "outputs": [],
   "source": [
    "#Plot using Seaborn's violin plot\n",
    "plt.figure(figsize=(18,10))\n",
    "sn.violinplot('group','dir_entropy',data=df_ent,hue='meds',split=True,width=1,palette='deep')\n",
    "sn.despine(offset=15,trim=True)"
   ]
  },
  {
   "cell_type": "code",
   "execution_count": null,
   "metadata": {
    "scrolled": true
   },
   "outputs": [],
   "source": [
    "#For color choice\n",
    "plt.figure(figsize=(18,10))\n",
    "sn.violinplot('group','col_entropy',data=df_ent,hue='meds',split=True,width=1,palette='deep')\n",
    "sn.despine(offset=15,trim=True)"
   ]
  }
 ],
 "metadata": {
  "kernelspec": {
   "display_name": "Python 3",
   "language": "python",
   "name": "python3"
  },
  "language_info": {
   "codemirror_mode": {
    "name": "ipython",
    "version": 3
   },
   "file_extension": ".py",
   "mimetype": "text/x-python",
   "name": "python",
   "nbconvert_exporter": "python",
   "pygments_lexer": "ipython3",
   "version": "3.5.2"
  }
 },
 "nbformat": 4,
 "nbformat_minor": 2
}
